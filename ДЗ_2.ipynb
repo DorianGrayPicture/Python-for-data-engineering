{
 "cells": [
  {
   "cell_type": "markdown",
   "id": "84349503-f274-4af4-963b-e464c23d6daf",
   "metadata": {},
   "source": [
    "# Задание 1"
   ]
  },
  {
   "cell_type": "code",
   "execution_count": 2,
   "id": "bfdb098a-ff29-424b-8b1c-4f07bbfba1ea",
   "metadata": {},
   "outputs": [],
   "source": [
    "from datetime import datetime"
   ]
  },
  {
   "cell_type": "markdown",
   "id": "00991d96-5a11-4325-bba2-4aa8357e2e33",
   "metadata": {},
   "source": [
    "### The Moscow Times"
   ]
  },
  {
   "cell_type": "code",
   "execution_count": 4,
   "id": "6508cc26-efb9-401c-85e9-07a277c642f7",
   "metadata": {},
   "outputs": [],
   "source": [
    "the_moscow_times = 'Wednesday, October 2, 2002'"
   ]
  },
  {
   "cell_type": "code",
   "execution_count": 5,
   "id": "26aa7d2e-f935-475c-9ffe-78d356b85d38",
   "metadata": {},
   "outputs": [],
   "source": [
    "the_moscow_times_format = '%A, %B %d, %Y'"
   ]
  },
  {
   "cell_type": "code",
   "execution_count": 6,
   "id": "e13157eb-9ca2-4650-95c2-de537dc30367",
   "metadata": {},
   "outputs": [],
   "source": [
    "the_moscow_times_dt = datetime.strptime(the_moscow_times, the_moscow_times_format)"
   ]
  },
  {
   "cell_type": "code",
   "execution_count": 7,
   "id": "3be761c7-ccf8-4aee-a28d-695cc361aa95",
   "metadata": {},
   "outputs": [
    {
     "data": {
      "text/plain": [
       "datetime.datetime(2002, 10, 2, 0, 0)"
      ]
     },
     "execution_count": 7,
     "metadata": {},
     "output_type": "execute_result"
    }
   ],
   "source": [
    "the_moscow_times_dt"
   ]
  },
  {
   "cell_type": "markdown",
   "id": "da0d702c-a04e-40c4-a568-4df619d72c21",
   "metadata": {},
   "source": [
    "### The Guardian"
   ]
  },
  {
   "cell_type": "code",
   "execution_count": 9,
   "id": "ad348c23-fe0f-4f16-b256-ae7ffa4a6b46",
   "metadata": {},
   "outputs": [],
   "source": [
    "the_guardian = 'Friday, 11.10.13' # MM-DD-YYYY"
   ]
  },
  {
   "cell_type": "code",
   "execution_count": 10,
   "id": "d6a27e48-029f-42e4-9d2c-7a0e7083c131",
   "metadata": {},
   "outputs": [],
   "source": [
    "the_guardian_format = '%A, %m.%d.%y'"
   ]
  },
  {
   "cell_type": "code",
   "execution_count": 11,
   "id": "62ebe26c-3b34-471d-8faa-42fded52ec89",
   "metadata": {},
   "outputs": [],
   "source": [
    "the_guardian_dt = datetime.strptime(the_guardian, the_guardian_format)"
   ]
  },
  {
   "cell_type": "code",
   "execution_count": 12,
   "id": "2e33dd65-3a6d-46a1-88ae-b9a23d155c9c",
   "metadata": {},
   "outputs": [
    {
     "data": {
      "text/plain": [
       "datetime.datetime(2013, 11, 10, 0, 0)"
      ]
     },
     "execution_count": 12,
     "metadata": {},
     "output_type": "execute_result"
    }
   ],
   "source": [
    "the_guardian_dt"
   ]
  },
  {
   "cell_type": "markdown",
   "id": "a1f73e12-e595-42d6-bda5-55c0b2a2ac7b",
   "metadata": {},
   "source": [
    "### Daily News"
   ]
  },
  {
   "cell_type": "code",
   "execution_count": 14,
   "id": "c454e04a-4437-45ab-b01f-f8cc1e0e7729",
   "metadata": {},
   "outputs": [],
   "source": [
    "daily_news = 'Thursday, 18 August 1977'"
   ]
  },
  {
   "cell_type": "code",
   "execution_count": 15,
   "id": "8c515686-9761-4e41-b4c9-6396b73e4ec5",
   "metadata": {},
   "outputs": [],
   "source": [
    "daily_news_format = '%A, %d %B %Y'"
   ]
  },
  {
   "cell_type": "code",
   "execution_count": 16,
   "id": "a01c896e-6eb6-4471-adc9-fc3e6035dbcf",
   "metadata": {},
   "outputs": [],
   "source": [
    "daily_news_format_dt = datetime.strptime(daily_news, daily_news_format)"
   ]
  },
  {
   "cell_type": "code",
   "execution_count": 17,
   "id": "3314dbde-3912-4635-92a9-3cdfd390e7c2",
   "metadata": {},
   "outputs": [
    {
     "data": {
      "text/plain": [
       "datetime.datetime(1977, 8, 18, 0, 0)"
      ]
     },
     "execution_count": 17,
     "metadata": {},
     "output_type": "execute_result"
    }
   ],
   "source": [
    "daily_news_format_dt"
   ]
  },
  {
   "cell_type": "markdown",
   "id": "cd2f797b-6f40-44e6-854f-d4d70066ce62",
   "metadata": {},
   "source": [
    "# Задание 2"
   ]
  },
  {
   "cell_type": "code",
   "execution_count": 19,
   "id": "8437c95c-bba7-41fc-afc9-1ca0e06473a9",
   "metadata": {},
   "outputs": [],
   "source": [
    "from datetime import timedelta"
   ]
  },
  {
   "cell_type": "code",
   "execution_count": 20,
   "id": "75ed5cf2-acb3-4f2c-b296-0a68f1bbcfe5",
   "metadata": {},
   "outputs": [],
   "source": [
    "def date_range(start_date: str, end_date: str) -> list:\n",
    "    date_list = []\n",
    "\n",
    "    if start_date > end_date:\n",
    "        return date_list\n",
    "\n",
    "    try:\n",
    "        current_date = datetime.strptime(start_date, '%Y-%m-%d')\n",
    "        end_date = datetime.strptime(end_date, '%Y-%m-%d')\n",
    "    except ValueError:\n",
    "        return date_list\n",
    "    \n",
    "    while current_date <= end_date:\n",
    "        date_list.append(current_date)\n",
    "        current_date += timedelta(days=1)\n",
    "\n",
    "    return date_list"
   ]
  },
  {
   "cell_type": "code",
   "execution_count": 48,
   "id": "bdd87deb-8140-4917-8b0d-ee017b19dad9",
   "metadata": {},
   "outputs": [
    {
     "data": {
      "text/plain": [
       "[datetime.datetime(2022, 1, 1, 0, 0),\n",
       " datetime.datetime(2022, 1, 2, 0, 0),\n",
       " datetime.datetime(2022, 1, 3, 0, 0)]"
      ]
     },
     "execution_count": 48,
     "metadata": {},
     "output_type": "execute_result"
    }
   ],
   "source": [
    "date_range('2022-01-01', '2022-01-03')"
   ]
  },
  {
   "cell_type": "code",
   "execution_count": 50,
   "id": "c2139d19-22d6-4d77-a070-c2517587cb5b",
   "metadata": {},
   "outputs": [
    {
     "data": {
      "text/plain": [
       "[]"
      ]
     },
     "execution_count": 50,
     "metadata": {},
     "output_type": "execute_result"
    }
   ],
   "source": [
    "date_range('2022-01-03', '2022-01-01')"
   ]
  },
  {
   "cell_type": "code",
   "execution_count": 52,
   "id": "2b2d7202-9f59-4be4-a7ee-8ce6cb9c1b4c",
   "metadata": {},
   "outputs": [
    {
     "data": {
      "text/plain": [
       "[]"
      ]
     },
     "execution_count": 52,
     "metadata": {},
     "output_type": "execute_result"
    }
   ],
   "source": [
    "date_range('2022-02-30', '2022-02-31')"
   ]
  }
 ],
 "metadata": {
  "kernelspec": {
   "display_name": "Python 3 (ipykernel)",
   "language": "python",
   "name": "python3"
  },
  "language_info": {
   "codemirror_mode": {
    "name": "ipython",
    "version": 3
   },
   "file_extension": ".py",
   "mimetype": "text/x-python",
   "name": "python",
   "nbconvert_exporter": "python",
   "pygments_lexer": "ipython3",
   "version": "3.12.4"
  }
 },
 "nbformat": 4,
 "nbformat_minor": 5
}
