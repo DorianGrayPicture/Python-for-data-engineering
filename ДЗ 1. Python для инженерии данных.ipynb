{
 "cells": [
  {
   "cell_type": "markdown",
   "id": "46e10cb1-ae43-4981-99e6-56260db27273",
   "metadata": {},
   "source": [
    "# Задание 1"
   ]
  },
  {
   "cell_type": "markdown",
   "id": "a06efd3c-bfc4-437a-aef4-8f4ebb9bd263",
   "metadata": {},
   "source": [
    "## Переведем данные из файла purchase_log.txt в словарь purchases:"
   ]
  },
  {
   "cell_type": "code",
   "execution_count": 89,
   "id": "220742ea-5c4c-451c-9473-43a9f1928866",
   "metadata": {},
   "outputs": [],
   "source": [
    "purchases = {}\n",
    "users = []\n",
    "\n",
    "with open('purchase_log.txt', encoding='utf-8') as file:\n",
    "    header_row = next(file)\n",
    "    for line in file:\n",
    "        # Переведем строку из файла в словарь\n",
    "        dict_line = json.loads(line)\n",
    "        user_id, category = dict_line['user_id'], dict_line['category']\n",
    "        users.append(user_id)\n",
    "        purchases[user_id] = category"
   ]
  },
  {
   "cell_type": "markdown",
   "id": "2d4fec32-be6b-42b2-9870-a22483789061",
   "metadata": {},
   "source": [
    "## Посмотрим содержимое словаря:"
   ]
  },
  {
   "cell_type": "code",
   "execution_count": 92,
   "id": "f2831ebc-3df9-45fe-9123-4b1912f17218",
   "metadata": {},
   "outputs": [
    {
     "name": "stdout",
     "output_type": "stream",
     "text": [
      "1840e0b9d4 Продукты\n",
      "4e4f90fcfb Электроника\n",
      "afea8d72fc Электроника\n",
      "373a6055fe Бытовая техника\n",
      "9b2ab046f3 Электроника\n",
      "9f39d307c3 Электроника\n",
      "44edeffc91 Продукты\n",
      "704474fa2d Продукты\n",
      "1de31be403 Бытовая техника\n",
      "b71f36a5e4 Продукты\n",
      "79843a685a Продукты\n",
      "ff68cee0d6 Бытовая техника\n",
      "e8447c40e2 Досуг\n",
      "98d290be27 Электроника\n",
      "fa0079a5a8 Досуг\n",
      "22d2f03a17 Досуг\n"
     ]
    }
   ],
   "source": [
    "i = 0\n",
    "for user_id in purchases:\n",
    "    print(user_id, purchases[user_id])\n",
    "    i += 1\n",
    "    if i > 15:\n",
    "        break"
   ]
  },
  {
   "cell_type": "markdown",
   "id": "50e8b33a-245e-40ab-92c1-f766e9cfed2f",
   "metadata": {},
   "source": [
    "# Задание 2"
   ]
  },
  {
   "cell_type": "markdown",
   "id": "0744f20d-2602-42c5-9b7a-c9b4d7f3adf4",
   "metadata": {},
   "source": [
    "## Открываем оба файла через контекстные менеджеры и записываем данные в funnel.csv "
   ]
  },
  {
   "cell_type": "code",
   "execution_count": 163,
   "id": "a6b8aa39-e1c6-4448-bc48-0b5bc2bbcc65",
   "metadata": {},
   "outputs": [],
   "source": [
    "import csv\n",
    "\n",
    "with open('funnel.csv', 'w', encoding=\"UTF8\") as funnel_file:\n",
    "    with open('visit_log.csv', 'r', encoding=\"UTF8\") as visit_log_file:\n",
    "        writer = csv.writer(funnel_file)\n",
    "        header_row = next(visit_log_file)\n",
    "        funnel_header_row = ['user_id', 'source', 'category']\n",
    "        writer.writerow(funnel_header_row)\n",
    "        for line in visit_log_file:\n",
    "            user_id, source = line.split(',')[0], line.split(',')[1]\n",
    "            if user_id in purchases.keys():\n",
    "                data = [user_id, source, purchases[user_id]]\n",
    "                writer.writerow(data)"
   ]
  }
 ],
 "metadata": {
  "kernelspec": {
   "display_name": "Python 3 (ipykernel)",
   "language": "python",
   "name": "python3"
  },
  "language_info": {
   "codemirror_mode": {
    "name": "ipython",
    "version": 3
   },
   "file_extension": ".py",
   "mimetype": "text/x-python",
   "name": "python",
   "nbconvert_exporter": "python",
   "pygments_lexer": "ipython3",
   "version": "3.12.4"
  }
 },
 "nbformat": 4,
 "nbformat_minor": 5
}
